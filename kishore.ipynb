{
 "cells": [
  {
   "cell_type": "code",
   "execution_count": null,
   "id": "1c8502d7-3f7a-476a-abb7-436822c56183",
   "metadata": {},
   "outputs": [],
   "source": [
    "n = int(input(\"enter a number:\"))\n",
    "s=1\n",
    "while(n>0):\n",
    "    digit = n%10\n",
    "    s = s*digit\n",
    "    n = n//10\n",
    "    \n",
    "print(\"sum of digit : \",s)"
   ]
  },
  {
   "cell_type": "code",
   "execution_count": null,
   "id": "a9b5de1d-4f4a-4add-818f-4d283c372d0e",
   "metadata": {},
   "outputs": [],
   "source": [
    "a = int(input(\"enter\"))\n",
    "print(a % 10)"
   ]
  },
  {
   "cell_type": "code",
   "execution_count": null,
   "id": "c6f4dde0-bc16-4f4e-aa53-87cea2c978e6",
   "metadata": {},
   "outputs": [],
   "source": [
    "# num =(input(\"enter a number\"))\n",
    "count=1\n",
    "for i in num:\n",
    "    count=count * int(i)\n",
    "print(count)  \n"
   ]
  },
  {
   "cell_type": "code",
   "execution_count": null,
   "id": "9edb67d0-06d6-4d37-ae3d-7e663851e882",
   "metadata": {
    "scrolled": true
   },
   "outputs": [],
   "source": [
    "a = int(input(\"sum of n number\"))\n",
    "count = 0\n",
    "for i in range(1,a+1):\n",
    "    count=count + i\n",
    "print(count)"
   ]
  },
  {
   "cell_type": "code",
   "execution_count": null,
   "id": "b2885a1b-4f71-4ef0-9291-8a51ce750955",
   "metadata": {},
   "outputs": [],
   "source": [
    "a=0\n",
    "for i in range(1,50):\n",
    "    if (i % 2 == 1):\n",
    "     a = a+i\n",
    "print( \"odd number\",a) \n",
    "\n",
    "\n"
   ]
  },
  {
   "cell_type": "code",
   "execution_count": null,
   "id": "4324a849-f341-40f4-91ee-387228acd523",
   "metadata": {},
   "outputs": [],
   "source": [
    "a=0\n",
    "for i in range(1,50):\n",
    "    if (i % 2 == 0):\n",
    "     a = a+i\n",
    "print( \"add number\",a) \n",
    "\n",
    "    "
   ]
  },
  {
   "cell_type": "code",
   "execution_count": 1,
   "id": "f3d8c619-96fe-4936-87d3-ee4e8c1cc490",
   "metadata": {},
   "outputs": [
    {
     "name": "stdin",
     "output_type": "stream",
     "text": [
      "enter a number: 4321\n"
     ]
    },
    {
     "name": "stdout",
     "output_type": "stream",
     "text": [
      "reverse :  1234\n"
     ]
    }
   ],
   "source": [
    "n = int(input(\"enter a number:\"))\n",
    "s=0\n",
    "while(n>0):\n",
    "    digit = n%10\n",
    "    s = s*10+digit\n",
    "    n = n//10\n",
    "print(\"reverse : \",s)"
   ]
  },
  {
   "cell_type": "code",
   "execution_count": 17,
   "id": "7f7d8bd1-40b2-4018-8cad-4da73602986c",
   "metadata": {},
   "outputs": [
    {
     "name": "stdin",
     "output_type": "stream",
     "text": [
      "factorial 5\n"
     ]
    },
    {
     "name": "stdout",
     "output_type": "stream",
     "text": [
      "120\n"
     ]
    }
   ],
   "source": [
    "a = int(input(\"factorial\"))\n",
    "s=1\n",
    "for i in range(1,a+1):\n",
    "    s = s * i\n",
    "print(s)"
   ]
  },
  {
   "cell_type": "code",
   "execution_count": 11,
   "id": "3600bae8-9a2f-4eb1-bf10-7a78d2b8841a",
   "metadata": {},
   "outputs": [
    {
     "name": "stdin",
     "output_type": "stream",
     "text": [
      "name 10\n"
     ]
    },
    {
     "name": "stdout",
     "output_type": "stream",
     "text": [
      "1\n",
      "2\n",
      "5\n",
      "10\n"
     ]
    }
   ],
   "source": [
    "a = int(input(\"name\"))\n",
    "for i in range(1,a+1): \n",
    "    if a % i == 0:\n",
    "     print(i)"
   ]
  },
  {
   "cell_type": "code",
   "execution_count": 13,
   "id": "9dcfffdd-0724-40df-ac3f-e02050922ac7",
   "metadata": {},
   "outputs": [
    {
     "name": "stdin",
     "output_type": "stream",
     "text": [
      "enter a number: 123\n"
     ]
    },
    {
     "name": "stdout",
     "output_type": "stream",
     "text": [
      "6\n"
     ]
    }
   ],
   "source": [
    "def sum_of_digit(n):\n",
    "    s=1\n",
    "    while(n>0):\n",
    "        digit = n%10\n",
    "        s = s*digit\n",
    "        n = n//10\n",
    "    return s\n",
    "n = int(input(\"enter a number:\"))\n",
    "print(sum_of_digit(n))\n",
    "    "
   ]
  },
  {
   "cell_type": "code",
   "execution_count": 17,
   "id": "c18280e2-6a32-4444-9ca7-d305f7df1f31",
   "metadata": {},
   "outputs": [
    {
     "name": "stdin",
     "output_type": "stream",
     "text": [
      "enter a number: 10\n"
     ]
    },
    {
     "name": "stdout",
     "output_type": "stream",
     "text": [
      "[1, 2, 5, 10]\n"
     ]
    }
   ],
   "source": [
    "n = int(input(\"enter a number:\")) \n",
    "factor_list =[]\n",
    "for i in range(1,n+1):\n",
    "     if n%i == 0:\n",
    "         factor_list.append(i)\n",
    "print(factor_list)"
   ]
  },
  {
   "cell_type": "code",
   "execution_count": 25,
   "id": "e27e44a3-4333-495c-8fe2-9a2ba29dd445",
   "metadata": {},
   "outputs": [
    {
     "name": "stdin",
     "output_type": "stream",
     "text": [
      " enter a number:  5\n"
     ]
    },
    {
     "ename": "NameError",
     "evalue": "name 'factors_list' is not defined",
     "output_type": "error",
     "traceback": [
      "\u001b[1;31m---------------------------------------------------------------------------\u001b[0m",
      "\u001b[1;31mNameError\u001b[0m                                 Traceback (most recent call last)",
      "Cell \u001b[1;32mIn[25], line 4\u001b[0m\n\u001b[0;32m      2\u001b[0m     \u001b[38;5;28;01mreturn\u001b[39;00m(factors_list(n) \u001b[38;5;241m==\u001b[39m [\u001b[38;5;241m1\u001b[39m,n])\n\u001b[0;32m      3\u001b[0m n\u001b[38;5;241m=\u001b[39m\u001b[38;5;28mint\u001b[39m(\u001b[38;5;28minput\u001b[39m(\u001b[38;5;124m\"\u001b[39m\u001b[38;5;124m enter a number: \u001b[39m\u001b[38;5;124m\"\u001b[39m))\n\u001b[1;32m----> 4\u001b[0m \u001b[38;5;28mprint\u001b[39m(prime(n))\n",
      "Cell \u001b[1;32mIn[25], line 2\u001b[0m, in \u001b[0;36mprime\u001b[1;34m(n)\u001b[0m\n\u001b[0;32m      1\u001b[0m \u001b[38;5;28;01mdef\u001b[39;00m \u001b[38;5;21mprime\u001b[39m(n):\n\u001b[1;32m----> 2\u001b[0m     \u001b[38;5;28;01mreturn\u001b[39;00m(factors_list(n) \u001b[38;5;241m==\u001b[39m [\u001b[38;5;241m1\u001b[39m,n])\n",
      "\u001b[1;31mNameError\u001b[0m: name 'factors_list' is not defined"
     ]
    }
   ],
   "source": [
    "def prime(n):\n",
    "    return(factors(n) == [1,n])\n",
    "n=int(input(\" enter a number: \"))\n",
    "print(prime(n))"
   ]
  },
  {
   "cell_type": "code",
   "execution_count": null,
   "id": "ab512a94-d875-4362-b969-18c300aa508f",
   "metadata": {},
   "outputs": [],
   "source": []
  }
 ],
 "metadata": {
  "kernelspec": {
   "display_name": "Python [conda env:base] *",
   "language": "python",
   "name": "conda-base-py"
  },
  "language_info": {
   "codemirror_mode": {
    "name": "ipython",
    "version": 3
   },
   "file_extension": ".py",
   "mimetype": "text/x-python",
   "name": "python",
   "nbconvert_exporter": "python",
   "pygments_lexer": "ipython3",
   "version": "3.12.7"
  }
 },
 "nbformat": 4,
 "nbformat_minor": 5
}
